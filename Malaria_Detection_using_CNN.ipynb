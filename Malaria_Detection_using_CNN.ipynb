{
  "nbformat": 4,
  "nbformat_minor": 0,
  "metadata": {
    "colab": {
      "name": "Malaria Detection using CNN",
      "provenance": [],
      "mount_file_id": "1q0xz6jdFt4fjQCTJhzLRl0kB7IsBS9r5",
      "authorship_tag": "ABX9TyOgpmfog2h0YzylhksIxsBf",
      "include_colab_link": true
    },
    "kernelspec": {
      "name": "python3",
      "display_name": "Python 3"
    },
    "language_info": {
      "name": "python"
    },
    "accelerator": "GPU"
  },
  "cells": [
    {
      "cell_type": "markdown",
      "metadata": {
        "id": "view-in-github",
        "colab_type": "text"
      },
      "source": [
        "<a href=\"https://colab.research.google.com/github/swarnava-96/Malaria-Detection-using-CNN/blob/main/Malaria_Detection_using_CNN.ipynb\" target=\"_parent\"><img src=\"https://colab.research.google.com/assets/colab-badge.svg\" alt=\"Open In Colab\"/></a>"
      ]
    },
    {
      "cell_type": "markdown",
      "metadata": {
        "id": "Dd-VIwUebgQ4"
      },
      "source": [
        "# **Malaria Detection using CNN**\n",
        "In this Deep Learning Project, we will predict whether a person is suffering from Malaria or not using CNN."
      ]
    },
    {
      "cell_type": "code",
      "metadata": {
        "colab": {
          "base_uri": "https://localhost:8080/"
        },
        "id": "AhhnczGtb_e4",
        "outputId": "2424846d-0dc6-4abf-d4d4-e533485301e0"
      },
      "source": [
        "cd \"/content/drive/MyDrive/Malaria\""
      ],
      "execution_count": 25,
      "outputs": [
        {
          "output_type": "stream",
          "name": "stdout",
          "text": [
            "/content/drive/MyDrive/Malaria\n"
          ]
        }
      ]
    },
    {
      "cell_type": "code",
      "metadata": {
        "colab": {
          "base_uri": "https://localhost:8080/"
        },
        "id": "_xIEhX-JcTtr",
        "outputId": "c40dbd43-4710-4039-f9b2-ec785f676f58"
      },
      "source": [
        "# Lets install tensorflow version 2.5.0\n",
        "!pip install tensorflow==2.5"
      ],
      "execution_count": 26,
      "outputs": [
        {
          "output_type": "stream",
          "name": "stdout",
          "text": [
            "Requirement already satisfied: tensorflow==2.5 in /usr/local/lib/python3.7/dist-packages (2.5.0)\n",
            "Requirement already satisfied: google-pasta~=0.2 in /usr/local/lib/python3.7/dist-packages (from tensorflow==2.5) (0.2.0)\n",
            "Requirement already satisfied: gast==0.4.0 in /usr/local/lib/python3.7/dist-packages (from tensorflow==2.5) (0.4.0)\n",
            "Requirement already satisfied: opt-einsum~=3.3.0 in /usr/local/lib/python3.7/dist-packages (from tensorflow==2.5) (3.3.0)\n",
            "Requirement already satisfied: wheel~=0.35 in /usr/local/lib/python3.7/dist-packages (from tensorflow==2.5) (0.37.0)\n",
            "Requirement already satisfied: flatbuffers~=1.12.0 in /usr/local/lib/python3.7/dist-packages (from tensorflow==2.5) (1.12)\n",
            "Requirement already satisfied: keras-nightly~=2.5.0.dev in /usr/local/lib/python3.7/dist-packages (from tensorflow==2.5) (2.5.0.dev2021032900)\n",
            "Requirement already satisfied: numpy~=1.19.2 in /usr/local/lib/python3.7/dist-packages (from tensorflow==2.5) (1.19.5)\n",
            "Requirement already satisfied: typing-extensions~=3.7.4 in /usr/local/lib/python3.7/dist-packages (from tensorflow==2.5) (3.7.4.3)\n",
            "Requirement already satisfied: tensorflow-estimator<2.6.0,>=2.5.0rc0 in /usr/local/lib/python3.7/dist-packages (from tensorflow==2.5) (2.5.0)\n",
            "Requirement already satisfied: h5py~=3.1.0 in /usr/local/lib/python3.7/dist-packages (from tensorflow==2.5) (3.1.0)\n",
            "Requirement already satisfied: six~=1.15.0 in /usr/local/lib/python3.7/dist-packages (from tensorflow==2.5) (1.15.0)\n",
            "Requirement already satisfied: wrapt~=1.12.1 in /usr/local/lib/python3.7/dist-packages (from tensorflow==2.5) (1.12.1)\n",
            "Requirement already satisfied: tensorboard~=2.5 in /usr/local/lib/python3.7/dist-packages (from tensorflow==2.5) (2.6.0)\n",
            "Requirement already satisfied: grpcio~=1.34.0 in /usr/local/lib/python3.7/dist-packages (from tensorflow==2.5) (1.34.1)\n",
            "Requirement already satisfied: termcolor~=1.1.0 in /usr/local/lib/python3.7/dist-packages (from tensorflow==2.5) (1.1.0)\n",
            "Requirement already satisfied: protobuf>=3.9.2 in /usr/local/lib/python3.7/dist-packages (from tensorflow==2.5) (3.17.3)\n",
            "Requirement already satisfied: absl-py~=0.10 in /usr/local/lib/python3.7/dist-packages (from tensorflow==2.5) (0.12.0)\n",
            "Requirement already satisfied: keras-preprocessing~=1.1.2 in /usr/local/lib/python3.7/dist-packages (from tensorflow==2.5) (1.1.2)\n",
            "Requirement already satisfied: astunparse~=1.6.3 in /usr/local/lib/python3.7/dist-packages (from tensorflow==2.5) (1.6.3)\n",
            "Requirement already satisfied: cached-property in /usr/local/lib/python3.7/dist-packages (from h5py~=3.1.0->tensorflow==2.5) (1.5.2)\n",
            "Requirement already satisfied: tensorboard-data-server<0.7.0,>=0.6.0 in /usr/local/lib/python3.7/dist-packages (from tensorboard~=2.5->tensorflow==2.5) (0.6.1)\n",
            "Requirement already satisfied: tensorboard-plugin-wit>=1.6.0 in /usr/local/lib/python3.7/dist-packages (from tensorboard~=2.5->tensorflow==2.5) (1.8.0)\n",
            "Requirement already satisfied: werkzeug>=0.11.15 in /usr/local/lib/python3.7/dist-packages (from tensorboard~=2.5->tensorflow==2.5) (1.0.1)\n",
            "Requirement already satisfied: google-auth-oauthlib<0.5,>=0.4.1 in /usr/local/lib/python3.7/dist-packages (from tensorboard~=2.5->tensorflow==2.5) (0.4.5)\n",
            "Requirement already satisfied: setuptools>=41.0.0 in /usr/local/lib/python3.7/dist-packages (from tensorboard~=2.5->tensorflow==2.5) (57.4.0)\n",
            "Requirement already satisfied: google-auth<2,>=1.6.3 in /usr/local/lib/python3.7/dist-packages (from tensorboard~=2.5->tensorflow==2.5) (1.34.0)\n",
            "Requirement already satisfied: requests<3,>=2.21.0 in /usr/local/lib/python3.7/dist-packages (from tensorboard~=2.5->tensorflow==2.5) (2.23.0)\n",
            "Requirement already satisfied: markdown>=2.6.8 in /usr/local/lib/python3.7/dist-packages (from tensorboard~=2.5->tensorflow==2.5) (3.3.4)\n",
            "Requirement already satisfied: pyasn1-modules>=0.2.1 in /usr/local/lib/python3.7/dist-packages (from google-auth<2,>=1.6.3->tensorboard~=2.5->tensorflow==2.5) (0.2.8)\n",
            "Requirement already satisfied: cachetools<5.0,>=2.0.0 in /usr/local/lib/python3.7/dist-packages (from google-auth<2,>=1.6.3->tensorboard~=2.5->tensorflow==2.5) (4.2.2)\n",
            "Requirement already satisfied: rsa<5,>=3.1.4 in /usr/local/lib/python3.7/dist-packages (from google-auth<2,>=1.6.3->tensorboard~=2.5->tensorflow==2.5) (4.7.2)\n",
            "Requirement already satisfied: requests-oauthlib>=0.7.0 in /usr/local/lib/python3.7/dist-packages (from google-auth-oauthlib<0.5,>=0.4.1->tensorboard~=2.5->tensorflow==2.5) (1.3.0)\n",
            "Requirement already satisfied: importlib-metadata in /usr/local/lib/python3.7/dist-packages (from markdown>=2.6.8->tensorboard~=2.5->tensorflow==2.5) (4.6.4)\n",
            "Requirement already satisfied: pyasn1<0.5.0,>=0.4.6 in /usr/local/lib/python3.7/dist-packages (from pyasn1-modules>=0.2.1->google-auth<2,>=1.6.3->tensorboard~=2.5->tensorflow==2.5) (0.4.8)\n",
            "Requirement already satisfied: urllib3!=1.25.0,!=1.25.1,<1.26,>=1.21.1 in /usr/local/lib/python3.7/dist-packages (from requests<3,>=2.21.0->tensorboard~=2.5->tensorflow==2.5) (1.24.3)\n",
            "Requirement already satisfied: idna<3,>=2.5 in /usr/local/lib/python3.7/dist-packages (from requests<3,>=2.21.0->tensorboard~=2.5->tensorflow==2.5) (2.10)\n",
            "Requirement already satisfied: chardet<4,>=3.0.2 in /usr/local/lib/python3.7/dist-packages (from requests<3,>=2.21.0->tensorboard~=2.5->tensorflow==2.5) (3.0.4)\n",
            "Requirement already satisfied: certifi>=2017.4.17 in /usr/local/lib/python3.7/dist-packages (from requests<3,>=2.21.0->tensorboard~=2.5->tensorflow==2.5) (2021.5.30)\n",
            "Requirement already satisfied: oauthlib>=3.0.0 in /usr/local/lib/python3.7/dist-packages (from requests-oauthlib>=0.7.0->google-auth-oauthlib<0.5,>=0.4.1->tensorboard~=2.5->tensorflow==2.5) (3.1.1)\n",
            "Requirement already satisfied: zipp>=0.5 in /usr/local/lib/python3.7/dist-packages (from importlib-metadata->markdown>=2.6.8->tensorboard~=2.5->tensorflow==2.5) (3.5.0)\n"
          ]
        }
      ]
    },
    {
      "cell_type": "code",
      "metadata": {
        "colab": {
          "base_uri": "https://localhost:8080/",
          "height": 35
        },
        "id": "HbeCkKpAc3pJ",
        "outputId": "503b6182-4166-4ba4-c1ee-9b2a5f185aba"
      },
      "source": [
        "# Lets check\n",
        "import tensorflow\n",
        "tensorflow.__version__"
      ],
      "execution_count": 27,
      "outputs": [
        {
          "output_type": "execute_result",
          "data": {
            "application/vnd.google.colaboratory.intrinsic+json": {
              "type": "string"
            },
            "text/plain": [
              "'2.5.0'"
            ]
          },
          "metadata": {},
          "execution_count": 27
        }
      ]
    },
    {
      "cell_type": "code",
      "metadata": {
        "id": "4UiiaE2KdCXN"
      },
      "source": [
        "# Importing the necessary libraries\n",
        "\n",
        "from tensorflow.keras.layers import Input, Lambda, Dense, Flatten, Conv2D\n",
        "from tensorflow.keras.models import Model\n",
        "from tensorflow.keras.layers import MaxPooling2D\n",
        "from tensorflow.keras.preprocessing import image\n",
        "from tensorflow.keras.preprocessing.image import ImageDataGenerator, load_img\n",
        "from tensorflow.keras.models import Sequential\n",
        "import numpy as np\n",
        "from glob import glob\n",
        "import matplotlib.pyplot as plt\n",
        "%matplotlib inline"
      ],
      "execution_count": 28,
      "outputs": []
    },
    {
      "cell_type": "code",
      "metadata": {
        "id": "FvBkd_mddpGw"
      },
      "source": [
        "# Lets resize all the images\n",
        "\n",
        "IMAGE_SIZE = [224,224]\n",
        "\n",
        "train_path = \"/content/drive/MyDrive/Malaria/Sample Dataset/Train\"\n",
        "test_path = \"/content/drive/MyDrive/Malaria/Sample Dataset/Test\""
      ],
      "execution_count": 29,
      "outputs": []
    },
    {
      "cell_type": "code",
      "metadata": {
        "id": "CGLfSbahd8Kr"
      },
      "source": [
        "### Create Model from scratch using CNN\n",
        "model=Sequential()\n",
        "model.add(Conv2D(filters=16,kernel_size=2,padding=\"same\",activation=\"relu\",input_shape=(224,224,3)))\n",
        "model.add(MaxPooling2D(pool_size=2))\n",
        "model.add(Conv2D(filters=32,kernel_size=2,padding=\"same\",activation =\"relu\"))\n",
        "model.add(MaxPooling2D(pool_size=2))\n",
        "model.add(Conv2D(filters=64,kernel_size=2,padding=\"same\",activation=\"relu\"))\n",
        "model.add(MaxPooling2D(pool_size=2))\n",
        "model.add(Flatten())\n",
        "model.add(Dense(500,activation=\"relu\"))\n",
        "model.add(Dense(2,activation=\"softmax\"))"
      ],
      "execution_count": 30,
      "outputs": []
    },
    {
      "cell_type": "code",
      "metadata": {
        "colab": {
          "base_uri": "https://localhost:8080/"
        },
        "id": "fG_gY58V-NSV",
        "outputId": "598a9f79-1fd1-4473-f0ad-82e1ffe99a84"
      },
      "source": [
        "# Lets see the model summary\n",
        "\n",
        "model.summary()"
      ],
      "execution_count": 31,
      "outputs": [
        {
          "output_type": "stream",
          "name": "stdout",
          "text": [
            "Model: \"sequential\"\n",
            "_________________________________________________________________\n",
            "Layer (type)                 Output Shape              Param #   \n",
            "=================================================================\n",
            "conv2d (Conv2D)              (None, 224, 224, 16)      208       \n",
            "_________________________________________________________________\n",
            "max_pooling2d (MaxPooling2D) (None, 112, 112, 16)      0         \n",
            "_________________________________________________________________\n",
            "conv2d_1 (Conv2D)            (None, 112, 112, 32)      2080      \n",
            "_________________________________________________________________\n",
            "max_pooling2d_1 (MaxPooling2 (None, 56, 56, 32)        0         \n",
            "_________________________________________________________________\n",
            "conv2d_2 (Conv2D)            (None, 56, 56, 64)        8256      \n",
            "_________________________________________________________________\n",
            "max_pooling2d_2 (MaxPooling2 (None, 28, 28, 64)        0         \n",
            "_________________________________________________________________\n",
            "flatten (Flatten)            (None, 50176)             0         \n",
            "_________________________________________________________________\n",
            "dense (Dense)                (None, 500)               25088500  \n",
            "_________________________________________________________________\n",
            "dense_1 (Dense)              (None, 2)                 1002      \n",
            "=================================================================\n",
            "Total params: 25,100,046\n",
            "Trainable params: 25,100,046\n",
            "Non-trainable params: 0\n",
            "_________________________________________________________________\n"
          ]
        }
      ]
    },
    {
      "cell_type": "code",
      "metadata": {
        "id": "KbRSBMSo-Yhl"
      },
      "source": [
        "# Compiling the model - telling the model what cost and optimization method to use\n",
        "model.compile(loss = \"categorical_crossentropy\",\n",
        "              optimizer = \"adam\", \n",
        "              metrics = [\"accuracy\"])"
      ],
      "execution_count": 32,
      "outputs": []
    },
    {
      "cell_type": "code",
      "metadata": {
        "id": "gi0ZpYlf-q8P"
      },
      "source": [
        "# Using the ImageDataGenerator to import the images from the dataset\n",
        "\n",
        "train_datagen = ImageDataGenerator(rescale = 1./255,\n",
        "                                   shear_range = 0.2,\n",
        "                                   zoom_range = 0.2,\n",
        "                                   horizontal_flip = True)\n",
        "\n",
        "test_datagen = ImageDataGenerator(rescale = 1./255)"
      ],
      "execution_count": 33,
      "outputs": []
    },
    {
      "cell_type": "code",
      "metadata": {
        "colab": {
          "base_uri": "https://localhost:8080/"
        },
        "id": "IW5K2lMj-2cg",
        "outputId": "bba91218-726e-4790-f528-3e80d811edef"
      },
      "source": [
        "# Making sure that we provide the same target size as initialized for the image size -- passing the train images to our model\n",
        "\n",
        "training_set = train_datagen.flow_from_directory(\"/content/drive/MyDrive/Malaria/Sample Dataset/Train\",\n",
        "                                                 target_size = (224,224),\n",
        "                                                 batch_size = 32,\n",
        "                                                 class_mode = \"categorical\")"
      ],
      "execution_count": 34,
      "outputs": [
        {
          "output_type": "stream",
          "name": "stdout",
          "text": [
            "Found 416 images belonging to 2 classes.\n"
          ]
        }
      ]
    },
    {
      "cell_type": "code",
      "metadata": {
        "colab": {
          "base_uri": "https://localhost:8080/"
        },
        "id": "19aAhQSI_Aux",
        "outputId": "01a9ab58-fdf5-4c7d-fdbd-ce82945f8d4f"
      },
      "source": [
        "# Passing the test images to our model\n",
        "\n",
        "test_set = test_datagen.flow_from_directory(\"/content/drive/MyDrive/Malaria/Sample Dataset/Test\",\n",
        "                                            target_size = (224,224),\n",
        "                                            batch_size = 32,\n",
        "                                            class_mode = \"categorical\")"
      ],
      "execution_count": 35,
      "outputs": [
        {
          "output_type": "stream",
          "name": "stdout",
          "text": [
            "Found 134 images belonging to 2 classes.\n"
          ]
        }
      ]
    },
    {
      "cell_type": "code",
      "metadata": {
        "colab": {
          "base_uri": "https://localhost:8080/"
        },
        "id": "N4U0J6_d_KQ6",
        "outputId": "3d63e2bc-9a36-441c-a102-206abfc3ae57"
      },
      "source": [
        "# Model Fitting\n",
        "\n",
        "r = model.fit_generator(training_set, validation_data = test_set, epochs = 100, steps_per_epoch = len(training_set), validation_steps = len(test_set))"
      ],
      "execution_count": 53,
      "outputs": [
        {
          "output_type": "stream",
          "name": "stderr",
          "text": [
            "/usr/local/lib/python3.7/dist-packages/tensorflow/python/keras/engine/training.py:1940: UserWarning: `Model.fit_generator` is deprecated and will be removed in a future version. Please use `Model.fit`, which supports generators.\n",
            "  warnings.warn('`Model.fit_generator` is deprecated and '\n"
          ]
        },
        {
          "output_type": "stream",
          "name": "stdout",
          "text": [
            "Epoch 1/100\n",
            "13/13 [==============================] - 23s 2s/step - loss: 0.1426 - accuracy: 0.9495 - val_loss: 0.3954 - val_accuracy: 0.8507\n",
            "Epoch 2/100\n",
            "13/13 [==============================] - 22s 2s/step - loss: 0.1203 - accuracy: 0.9591 - val_loss: 0.3085 - val_accuracy: 0.8731\n",
            "Epoch 3/100\n",
            "13/13 [==============================] - 22s 2s/step - loss: 0.0696 - accuracy: 0.9856 - val_loss: 0.2288 - val_accuracy: 0.9179\n",
            "Epoch 4/100\n",
            "13/13 [==============================] - 22s 2s/step - loss: 0.0272 - accuracy: 0.9952 - val_loss: 0.2277 - val_accuracy: 0.9328\n",
            "Epoch 5/100\n",
            "13/13 [==============================] - 22s 2s/step - loss: 0.1013 - accuracy: 0.9688 - val_loss: 0.4791 - val_accuracy: 0.8582\n",
            "Epoch 6/100\n",
            "13/13 [==============================] - 22s 2s/step - loss: 0.0679 - accuracy: 0.9856 - val_loss: 0.2832 - val_accuracy: 0.9030\n",
            "Epoch 7/100\n",
            "13/13 [==============================] - 22s 2s/step - loss: 0.0373 - accuracy: 0.9880 - val_loss: 0.3580 - val_accuracy: 0.9104\n",
            "Epoch 8/100\n",
            "13/13 [==============================] - 22s 2s/step - loss: 0.0218 - accuracy: 0.9976 - val_loss: 0.2464 - val_accuracy: 0.9328\n",
            "Epoch 9/100\n",
            "13/13 [==============================] - 22s 2s/step - loss: 0.1058 - accuracy: 0.9760 - val_loss: 0.6054 - val_accuracy: 0.8134\n",
            "Epoch 10/100\n",
            "13/13 [==============================] - 22s 2s/step - loss: 0.1654 - accuracy: 0.9495 - val_loss: 0.3545 - val_accuracy: 0.8209\n",
            "Epoch 11/100\n",
            "13/13 [==============================] - 22s 2s/step - loss: 0.1396 - accuracy: 0.9519 - val_loss: 0.3627 - val_accuracy: 0.8433\n",
            "Epoch 12/100\n",
            "13/13 [==============================] - 22s 2s/step - loss: 0.1073 - accuracy: 0.9591 - val_loss: 0.2889 - val_accuracy: 0.8881\n",
            "Epoch 13/100\n",
            "13/13 [==============================] - 22s 2s/step - loss: 0.0771 - accuracy: 0.9832 - val_loss: 0.2332 - val_accuracy: 0.8955\n",
            "Epoch 14/100\n",
            "13/13 [==============================] - 22s 2s/step - loss: 0.0737 - accuracy: 0.9880 - val_loss: 0.1874 - val_accuracy: 0.9403\n",
            "Epoch 15/100\n",
            "13/13 [==============================] - 22s 2s/step - loss: 0.0726 - accuracy: 0.9688 - val_loss: 0.3071 - val_accuracy: 0.8731\n",
            "Epoch 16/100\n",
            "13/13 [==============================] - 22s 2s/step - loss: 0.0783 - accuracy: 0.9808 - val_loss: 0.4502 - val_accuracy: 0.8731\n",
            "Epoch 17/100\n",
            "13/13 [==============================] - 22s 2s/step - loss: 0.0422 - accuracy: 0.9856 - val_loss: 0.1696 - val_accuracy: 0.9403\n",
            "Epoch 18/100\n",
            "13/13 [==============================] - 22s 2s/step - loss: 0.0255 - accuracy: 0.9952 - val_loss: 0.2409 - val_accuracy: 0.9179\n",
            "Epoch 19/100\n",
            "13/13 [==============================] - 22s 2s/step - loss: 0.0219 - accuracy: 0.9928 - val_loss: 0.2577 - val_accuracy: 0.9254\n",
            "Epoch 20/100\n",
            "13/13 [==============================] - 21s 2s/step - loss: 0.0304 - accuracy: 0.9928 - val_loss: 0.4643 - val_accuracy: 0.8806\n",
            "Epoch 21/100\n",
            "13/13 [==============================] - 22s 2s/step - loss: 0.0622 - accuracy: 0.9784 - val_loss: 0.2817 - val_accuracy: 0.8881\n",
            "Epoch 22/100\n",
            "13/13 [==============================] - 22s 2s/step - loss: 0.0471 - accuracy: 0.9856 - val_loss: 0.2941 - val_accuracy: 0.8806\n",
            "Epoch 23/100\n",
            "13/13 [==============================] - 22s 2s/step - loss: 0.0212 - accuracy: 0.9976 - val_loss: 0.2165 - val_accuracy: 0.9328\n",
            "Epoch 24/100\n",
            "13/13 [==============================] - 21s 2s/step - loss: 0.0161 - accuracy: 0.9976 - val_loss: 0.2575 - val_accuracy: 0.9254\n",
            "Epoch 25/100\n",
            "13/13 [==============================] - 22s 2s/step - loss: 0.0782 - accuracy: 0.9784 - val_loss: 0.3963 - val_accuracy: 0.8657\n",
            "Epoch 26/100\n",
            "13/13 [==============================] - 22s 2s/step - loss: 0.0976 - accuracy: 0.9688 - val_loss: 0.3471 - val_accuracy: 0.8657\n",
            "Epoch 27/100\n",
            "13/13 [==============================] - 21s 2s/step - loss: 0.1073 - accuracy: 0.9639 - val_loss: 0.2999 - val_accuracy: 0.8955\n",
            "Epoch 28/100\n",
            "13/13 [==============================] - 22s 2s/step - loss: 0.0699 - accuracy: 0.9784 - val_loss: 0.2719 - val_accuracy: 0.8806\n",
            "Epoch 29/100\n",
            "13/13 [==============================] - 22s 2s/step - loss: 0.0431 - accuracy: 0.9856 - val_loss: 0.1789 - val_accuracy: 0.9552\n",
            "Epoch 30/100\n",
            "13/13 [==============================] - 22s 2s/step - loss: 0.0392 - accuracy: 0.9880 - val_loss: 0.2843 - val_accuracy: 0.9552\n",
            "Epoch 31/100\n",
            "13/13 [==============================] - 22s 2s/step - loss: 0.0125 - accuracy: 0.9952 - val_loss: 0.5449 - val_accuracy: 0.8806\n",
            "Epoch 32/100\n",
            "13/13 [==============================] - 22s 2s/step - loss: 0.0393 - accuracy: 0.9904 - val_loss: 0.1863 - val_accuracy: 0.9478\n",
            "Epoch 33/100\n",
            "13/13 [==============================] - 22s 2s/step - loss: 0.0754 - accuracy: 0.9688 - val_loss: 0.2716 - val_accuracy: 0.9030\n",
            "Epoch 34/100\n",
            "13/13 [==============================] - 22s 2s/step - loss: 0.1202 - accuracy: 0.9567 - val_loss: 0.3522 - val_accuracy: 0.8657\n",
            "Epoch 35/100\n",
            "13/13 [==============================] - 22s 2s/step - loss: 0.0883 - accuracy: 0.9760 - val_loss: 0.3536 - val_accuracy: 0.8806\n",
            "Epoch 36/100\n",
            "13/13 [==============================] - 21s 2s/step - loss: 0.0493 - accuracy: 0.9856 - val_loss: 0.2711 - val_accuracy: 0.9328\n",
            "Epoch 37/100\n",
            "13/13 [==============================] - 22s 2s/step - loss: 0.0349 - accuracy: 0.9952 - val_loss: 0.3974 - val_accuracy: 0.9030\n",
            "Epoch 38/100\n",
            "13/13 [==============================] - 22s 2s/step - loss: 0.0448 - accuracy: 0.9832 - val_loss: 0.4011 - val_accuracy: 0.8806\n",
            "Epoch 39/100\n",
            "13/13 [==============================] - 22s 2s/step - loss: 0.0398 - accuracy: 0.9904 - val_loss: 0.3433 - val_accuracy: 0.8955\n",
            "Epoch 40/100\n",
            "13/13 [==============================] - 22s 2s/step - loss: 0.0217 - accuracy: 0.9928 - val_loss: 0.3367 - val_accuracy: 0.9328\n",
            "Epoch 41/100\n",
            "13/13 [==============================] - 22s 2s/step - loss: 0.0121 - accuracy: 0.9976 - val_loss: 0.2996 - val_accuracy: 0.9328\n",
            "Epoch 42/100\n",
            "13/13 [==============================] - 22s 2s/step - loss: 0.0154 - accuracy: 0.9952 - val_loss: 0.4912 - val_accuracy: 0.9179\n",
            "Epoch 43/100\n",
            "13/13 [==============================] - 22s 2s/step - loss: 0.0136 - accuracy: 0.9952 - val_loss: 0.3547 - val_accuracy: 0.9328\n",
            "Epoch 44/100\n",
            "13/13 [==============================] - 22s 2s/step - loss: 0.0119 - accuracy: 0.9976 - val_loss: 0.3213 - val_accuracy: 0.9328\n",
            "Epoch 45/100\n",
            "13/13 [==============================] - 22s 2s/step - loss: 0.0074 - accuracy: 0.9976 - val_loss: 0.3734 - val_accuracy: 0.9254\n",
            "Epoch 46/100\n",
            "13/13 [==============================] - 22s 2s/step - loss: 0.0190 - accuracy: 0.9976 - val_loss: 0.3209 - val_accuracy: 0.9328\n",
            "Epoch 47/100\n",
            "13/13 [==============================] - 22s 2s/step - loss: 0.0072 - accuracy: 0.9976 - val_loss: 0.2907 - val_accuracy: 0.9328\n",
            "Epoch 48/100\n",
            "13/13 [==============================] - 22s 2s/step - loss: 0.0044 - accuracy: 0.9976 - val_loss: 0.3545 - val_accuracy: 0.9254\n",
            "Epoch 49/100\n",
            "13/13 [==============================] - 22s 2s/step - loss: 0.0155 - accuracy: 0.9952 - val_loss: 0.2499 - val_accuracy: 0.9478\n",
            "Epoch 50/100\n",
            "13/13 [==============================] - 22s 2s/step - loss: 0.0122 - accuracy: 0.9976 - val_loss: 0.2703 - val_accuracy: 0.9403\n",
            "Epoch 51/100\n",
            "13/13 [==============================] - 22s 2s/step - loss: 0.0130 - accuracy: 0.9976 - val_loss: 0.4344 - val_accuracy: 0.9104\n",
            "Epoch 52/100\n",
            "13/13 [==============================] - 22s 2s/step - loss: 0.0198 - accuracy: 0.9928 - val_loss: 0.2259 - val_accuracy: 0.9403\n",
            "Epoch 53/100\n",
            "13/13 [==============================] - 22s 2s/step - loss: 0.0063 - accuracy: 1.0000 - val_loss: 0.3707 - val_accuracy: 0.9254\n",
            "Epoch 54/100\n",
            "13/13 [==============================] - 22s 2s/step - loss: 0.0142 - accuracy: 0.9976 - val_loss: 0.2541 - val_accuracy: 0.9403\n",
            "Epoch 55/100\n",
            "13/13 [==============================] - 22s 2s/step - loss: 0.0241 - accuracy: 0.9928 - val_loss: 0.2549 - val_accuracy: 0.9403\n",
            "Epoch 56/100\n",
            "13/13 [==============================] - 22s 2s/step - loss: 0.0183 - accuracy: 0.9976 - val_loss: 0.2338 - val_accuracy: 0.9403\n",
            "Epoch 57/100\n",
            "13/13 [==============================] - 21s 2s/step - loss: 0.0179 - accuracy: 0.9928 - val_loss: 0.3820 - val_accuracy: 0.9179\n",
            "Epoch 58/100\n",
            "13/13 [==============================] - 22s 2s/step - loss: 0.0087 - accuracy: 0.9976 - val_loss: 0.2389 - val_accuracy: 0.9403\n",
            "Epoch 59/100\n",
            "13/13 [==============================] - 22s 2s/step - loss: 0.0053 - accuracy: 0.9976 - val_loss: 0.2764 - val_accuracy: 0.9403\n",
            "Epoch 60/100\n",
            "13/13 [==============================] - 21s 2s/step - loss: 0.0073 - accuracy: 0.9976 - val_loss: 0.3653 - val_accuracy: 0.9328\n",
            "Epoch 61/100\n",
            "13/13 [==============================] - 21s 2s/step - loss: 0.0132 - accuracy: 0.9976 - val_loss: 0.3382 - val_accuracy: 0.9328\n",
            "Epoch 62/100\n",
            "13/13 [==============================] - 21s 2s/step - loss: 0.0126 - accuracy: 0.9952 - val_loss: 0.1960 - val_accuracy: 0.9478\n",
            "Epoch 63/100\n",
            "13/13 [==============================] - 21s 2s/step - loss: 0.0107 - accuracy: 0.9976 - val_loss: 0.4658 - val_accuracy: 0.9030\n",
            "Epoch 64/100\n",
            "13/13 [==============================] - 21s 2s/step - loss: 0.0052 - accuracy: 1.0000 - val_loss: 0.3027 - val_accuracy: 0.9403\n",
            "Epoch 65/100\n",
            "13/13 [==============================] - 21s 2s/step - loss: 0.0048 - accuracy: 0.9976 - val_loss: 0.3860 - val_accuracy: 0.9254\n",
            "Epoch 66/100\n",
            "13/13 [==============================] - 21s 2s/step - loss: 0.0022 - accuracy: 1.0000 - val_loss: 0.4097 - val_accuracy: 0.9254\n",
            "Epoch 67/100\n",
            "13/13 [==============================] - 21s 2s/step - loss: 0.0155 - accuracy: 0.9976 - val_loss: 0.3508 - val_accuracy: 0.9328\n",
            "Epoch 68/100\n",
            "13/13 [==============================] - 21s 2s/step - loss: 0.0068 - accuracy: 0.9976 - val_loss: 0.2812 - val_accuracy: 0.9328\n",
            "Epoch 69/100\n",
            "13/13 [==============================] - 21s 2s/step - loss: 0.0048 - accuracy: 0.9976 - val_loss: 0.2847 - val_accuracy: 0.9328\n",
            "Epoch 70/100\n",
            "13/13 [==============================] - 21s 2s/step - loss: 0.0029 - accuracy: 1.0000 - val_loss: 0.3228 - val_accuracy: 0.9328\n",
            "Epoch 71/100\n",
            "13/13 [==============================] - 21s 2s/step - loss: 0.0026 - accuracy: 1.0000 - val_loss: 0.4032 - val_accuracy: 0.9179\n",
            "Epoch 72/100\n",
            "13/13 [==============================] - 21s 2s/step - loss: 0.0031 - accuracy: 0.9976 - val_loss: 0.3509 - val_accuracy: 0.9328\n",
            "Epoch 73/100\n",
            "13/13 [==============================] - 22s 2s/step - loss: 0.0177 - accuracy: 0.9976 - val_loss: 0.2438 - val_accuracy: 0.9478\n",
            "Epoch 74/100\n",
            "13/13 [==============================] - 21s 2s/step - loss: 0.0018 - accuracy: 1.0000 - val_loss: 0.3315 - val_accuracy: 0.9254\n",
            "Epoch 75/100\n",
            "13/13 [==============================] - 22s 2s/step - loss: 0.0066 - accuracy: 0.9976 - val_loss: 0.2770 - val_accuracy: 0.9328\n",
            "Epoch 76/100\n",
            "13/13 [==============================] - 22s 2s/step - loss: 0.0121 - accuracy: 0.9976 - val_loss: 0.2747 - val_accuracy: 0.9403\n",
            "Epoch 77/100\n",
            "13/13 [==============================] - 22s 2s/step - loss: 0.0124 - accuracy: 0.9952 - val_loss: 0.2609 - val_accuracy: 0.9478\n",
            "Epoch 78/100\n",
            "13/13 [==============================] - 22s 2s/step - loss: 0.0159 - accuracy: 0.9952 - val_loss: 0.3949 - val_accuracy: 0.9179\n",
            "Epoch 79/100\n",
            "13/13 [==============================] - 22s 2s/step - loss: 0.0095 - accuracy: 0.9952 - val_loss: 0.2781 - val_accuracy: 0.9328\n",
            "Epoch 80/100\n",
            "13/13 [==============================] - 22s 2s/step - loss: 0.0139 - accuracy: 0.9952 - val_loss: 0.2118 - val_accuracy: 0.9552\n",
            "Epoch 81/100\n",
            "13/13 [==============================] - 22s 2s/step - loss: 0.0038 - accuracy: 1.0000 - val_loss: 0.2347 - val_accuracy: 0.9552\n",
            "Epoch 82/100\n",
            "13/13 [==============================] - 22s 2s/step - loss: 0.0014 - accuracy: 1.0000 - val_loss: 0.2719 - val_accuracy: 0.9403\n",
            "Epoch 83/100\n",
            "13/13 [==============================] - 22s 2s/step - loss: 0.0014 - accuracy: 1.0000 - val_loss: 0.2752 - val_accuracy: 0.9403\n",
            "Epoch 84/100\n",
            "13/13 [==============================] - 22s 2s/step - loss: 0.0038 - accuracy: 0.9976 - val_loss: 0.2808 - val_accuracy: 0.9403\n",
            "Epoch 85/100\n",
            "13/13 [==============================] - 22s 2s/step - loss: 0.0015 - accuracy: 1.0000 - val_loss: 0.2559 - val_accuracy: 0.9552\n",
            "Epoch 86/100\n",
            "13/13 [==============================] - 22s 2s/step - loss: 0.0110 - accuracy: 0.9976 - val_loss: 0.2294 - val_accuracy: 0.9478\n",
            "Epoch 87/100\n",
            "13/13 [==============================] - 22s 2s/step - loss: 0.0027 - accuracy: 1.0000 - val_loss: 0.2638 - val_accuracy: 0.9403\n",
            "Epoch 88/100\n",
            "13/13 [==============================] - 22s 2s/step - loss: 0.0023 - accuracy: 1.0000 - val_loss: 0.1922 - val_accuracy: 0.9701\n",
            "Epoch 89/100\n",
            "13/13 [==============================] - 22s 2s/step - loss: 0.1601 - accuracy: 0.9543 - val_loss: 0.8389 - val_accuracy: 0.7388\n",
            "Epoch 90/100\n",
            "13/13 [==============================] - 21s 2s/step - loss: 0.2340 - accuracy: 0.9279 - val_loss: 0.3311 - val_accuracy: 0.8358\n",
            "Epoch 91/100\n",
            "13/13 [==============================] - 22s 2s/step - loss: 0.1593 - accuracy: 0.9471 - val_loss: 0.3611 - val_accuracy: 0.8433\n",
            "Epoch 92/100\n",
            "13/13 [==============================] - 21s 2s/step - loss: 0.1067 - accuracy: 0.9615 - val_loss: 0.2409 - val_accuracy: 0.9030\n",
            "Epoch 93/100\n",
            "13/13 [==============================] - 21s 2s/step - loss: 0.0747 - accuracy: 0.9832 - val_loss: 0.2681 - val_accuracy: 0.9030\n",
            "Epoch 94/100\n",
            "13/13 [==============================] - 21s 2s/step - loss: 0.0314 - accuracy: 0.9928 - val_loss: 0.2044 - val_accuracy: 0.9552\n",
            "Epoch 95/100\n",
            "13/13 [==============================] - 21s 2s/step - loss: 0.0056 - accuracy: 0.9976 - val_loss: 0.3336 - val_accuracy: 0.9403\n",
            "Epoch 96/100\n",
            "13/13 [==============================] - 22s 2s/step - loss: 0.0037 - accuracy: 0.9976 - val_loss: 0.2220 - val_accuracy: 0.9701\n",
            "Epoch 97/100\n",
            "13/13 [==============================] - 22s 2s/step - loss: 0.0049 - accuracy: 0.9976 - val_loss: 0.3916 - val_accuracy: 0.9328\n",
            "Epoch 98/100\n",
            "13/13 [==============================] - 21s 2s/step - loss: 0.0118 - accuracy: 0.9976 - val_loss: 0.2608 - val_accuracy: 0.9552\n",
            "Epoch 99/100\n",
            "13/13 [==============================] - 21s 2s/step - loss: 0.0146 - accuracy: 0.9976 - val_loss: 0.1912 - val_accuracy: 0.9701\n",
            "Epoch 100/100\n",
            "13/13 [==============================] - 21s 2s/step - loss: 0.0065 - accuracy: 0.9976 - val_loss: 0.3241 - val_accuracy: 0.9478\n"
          ]
        }
      ]
    },
    {
      "cell_type": "code",
      "metadata": {
        "colab": {
          "base_uri": "https://localhost:8080/",
          "height": 513
        },
        "id": "2hVyYfLC_V2y",
        "outputId": "a3f8afb8-fada-4d94-ce7f-3c0c63327f04"
      },
      "source": [
        "# plot the loss\n",
        "plt.plot(r.history['loss'], label='train loss')\n",
        "plt.plot(r.history['val_loss'], label='val loss')\n",
        "plt.legend()\n",
        "plt.show()\n",
        "\n",
        "\n",
        "# plot the accuracy\n",
        "plt.plot(r.history['accuracy'], label='train acc')\n",
        "plt.plot(r.history['val_accuracy'], label='val acc')\n",
        "plt.legend()\n",
        "plt.show()\n"
      ],
      "execution_count": 54,
      "outputs": [
        {
          "output_type": "display_data",
          "data": {
            "image/png": "[encoded data removed]",
            "text/plain": [
              "<Figure size 432x288 with 1 Axes>"
            ]
          },
          "metadata": {
            "needs_background": "light"
          }
        },
        {
          "output_type": "display_data",
          "data": {
            "image/png": "[encoded data removed]",
            "text/plain": [
              "<Figure size 432x288 with 1 Axes>"
            ]
          },
          "metadata": {
            "needs_background": "light"
          }
        }
      ]
    },
    {
      "cell_type": "code",
      "metadata": {
        "id": "FJLeivmQAbXG"
      },
      "source": [
        "# Saving the model to reuse it later\n",
        "\n",
        "from tensorflow.keras.models import load_model\n",
        "model.save(\"model_malaria.h5\")"
      ],
      "execution_count": 55,
      "outputs": []
    },
    {
      "cell_type": "code",
      "metadata": {
        "id": "qb8d8IzgAhf4"
      },
      "source": [
        "# Prediction and Validation\n",
        "\n",
        "from tensorflow.keras.models import load_model\n",
        "from keras_preprocessing import image\n",
        "from tensorflow.keras.applications.vgg19 import preprocess_input\n",
        "import numpy as np"
      ],
      "execution_count": 56,
      "outputs": []
    },
    {
      "cell_type": "code",
      "metadata": {
        "id": "N536eTnFcG_2"
      },
      "source": [
        "# Loading the model\n",
        "\n",
        "model = load_model(\"model_malaria.h5\")"
      ],
      "execution_count": 57,
      "outputs": []
    },
    {
      "cell_type": "code",
      "metadata": {
        "id": "7Fa-xKMocL9b"
      },
      "source": [
        "# Lets see how the model predicts on the test dataset\n",
        "\n",
        "img = image.load_img(\"/content/drive/MyDrive/Malaria/Sample Dataset/Test/Parasite/C39P4thinF_original_IMG_20150622_105554_cell_11.png\", target_size = (224,224))\n",
        "x = image.img_to_array(img)\n",
        "x = np.expand_dims(x, axis = 0)\n",
        "img_data = preprocess_input(x)\n",
        "classes = model.predict(img_data)"
      ],
      "execution_count": 58,
      "outputs": []
    },
    {
      "cell_type": "code",
      "metadata": {
        "colab": {
          "base_uri": "https://localhost:8080/"
        },
        "id": "0egQ2645cfbX",
        "outputId": "35c40c56-d85f-4195-89c5-031ff5112281"
      },
      "source": [
        "# Lets see the results\n",
        "\n",
        "classes"
      ],
      "execution_count": 59,
      "outputs": [
        {
          "output_type": "execute_result",
          "data": {
            "text/plain": [
              "array([[1., 0.]], dtype=float32)"
            ]
          },
          "metadata": {},
          "execution_count": 59
        }
      ]
    },
    {
      "cell_type": "markdown",
      "metadata": {
        "id": "xh-MM5HucomM"
      },
      "source": [
        "We can see the model correctly predicts that the person is having Malaria."
      ]
    }
  ]
}